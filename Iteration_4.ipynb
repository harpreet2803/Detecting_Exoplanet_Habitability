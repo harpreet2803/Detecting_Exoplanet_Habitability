{
  "cells": [
    {
      "cell_type": "markdown",
      "source": [
        "## Install missing packages and import all required libraries"
      ],
      "metadata": {
        "id": "flQZ21HGejme"
      }
    },
    {
      "cell_type": "code",
      "source": [
        "!pip3 install imbalanced-learn openpyxl tabulate\n",
        "import warnings\n",
        "warnings.simplefilter(action = 'ignore', category = FutureWarning)\n",
        "import pandas as pd, numpy as np, time, matplotlib.pyplot as plt\n",
        "from sklearn.svm import SVC\n",
        "from imblearn.combine import SMOTETomek\n",
        "from sklearn.neural_network import MLPClassifier\n",
        "from imblearn.over_sampling import SMOTE, ADASYN\n",
        "from sklearn.neighbors import KNeighborsClassifier\n",
        "from sklearn.linear_model import LogisticRegression\n",
        "from imblearn.under_sampling import ClusterCentroids\n",
        "from sklearn.model_selection import train_test_split, GridSearchCV\n",
        "from sklearn.metrics import recall_score, precision_score, f1_score, roc_auc_score, ConfusionMatrixDisplay"
      ],
      "metadata": {
        "id": "JU_AISpCKEPA",
        "outputId": "612378a8-c950-4cc9-f5c9-18ffcf1f8684",
        "colab": {
          "base_uri": "https://localhost:8080/"
        }
      },
      "execution_count": 1,
      "outputs": [
        {
          "output_type": "stream",
          "name": "stdout",
          "text": [
            "Requirement already satisfied: imbalanced-learn in /Users/sauravsjk/miniconda/lib/python3.9/site-packages (0.9.1)\r\n",
            "Requirement already satisfied: openpyxl in /Users/sauravsjk/miniconda/lib/python3.9/site-packages (3.0.10)\r\n",
            "Requirement already satisfied: tabulate in /Users/sauravsjk/miniconda/lib/python3.9/site-packages (0.9.0)\r\n",
            "Requirement already satisfied: scipy>=1.3.2 in /Users/sauravsjk/miniconda/lib/python3.9/site-packages (from imbalanced-learn) (1.9.3)\r\n",
            "Requirement already satisfied: numpy>=1.17.3 in /Users/sauravsjk/miniconda/lib/python3.9/site-packages (from imbalanced-learn) (1.23.4)\r\n",
            "Requirement already satisfied: scikit-learn>=1.1.0 in /Users/sauravsjk/miniconda/lib/python3.9/site-packages (from imbalanced-learn) (1.1.1)\r\n",
            "Requirement already satisfied: joblib>=1.0.0 in /Users/sauravsjk/miniconda/lib/python3.9/site-packages (from imbalanced-learn) (1.1.1)\r\n",
            "Requirement already satisfied: threadpoolctl>=2.0.0 in /Users/sauravsjk/miniconda/lib/python3.9/site-packages (from imbalanced-learn) (3.1.0)\r\n",
            "Requirement already satisfied: et-xmlfile in /Users/sauravsjk/miniconda/lib/python3.9/site-packages (from openpyxl) (1.1.0)\r\n"
          ]
        }
      ]
    },
    {
      "cell_type": "markdown",
      "source": [
        "## Read the datasets in the original space and in the PCA transformed space in Ur and U matrix format"
      ],
      "metadata": {
        "id": "nv3q0cgKe3j6"
      }
    },
    {
      "cell_type": "code",
      "source": [
        "PHL = pd.read_excel(\"PHL.xlsx\")\n",
        "Ur = pd.read_excel(\"Ur.xlsx\")\n",
        "U = pd.read_excel(\"U.xlsx\")\n",
        "print(PHL)\n",
        "print(Ur)\n",
        "print(U)"
      ],
      "metadata": {
        "id": "zGm5joJlKKQk",
        "outputId": "15644cca-9a5b-4798-a332-47e1e6bcb8f2",
        "colab": {
          "base_uri": "https://localhost:8080/"
        }
      },
      "execution_count": 2,
      "outputs": [
        {
          "output_type": "stream",
          "name": "stdout",
          "text": [
            "       sy_snum   sy_pnum  pl_orbper   pl_rade  pl_bmasse   st_teff    st_lum  \\\n",
            "0     2.660890 -0.680655  -0.014752  1.052172   3.264503 -0.497570  3.196379   \n",
            "1    -0.297639 -0.680655  -0.014718  1.082953   2.431395 -0.886529  3.451361   \n",
            "2    -0.297639 -0.680655  -0.014776  1.175297   0.653926 -0.445366  2.541880   \n",
            "3    -0.297639  0.180341  -0.014499  1.129125   1.250996 -0.059349 -0.070660   \n",
            "4     5.619418 -0.680655  -0.014669  1.267641   0.113952  0.243583  0.270225   \n",
            "...        ...       ...        ...       ...        ...       ...       ...   \n",
            "4965  2.660890  1.041338  -0.014808  1.344594  -0.081391  0.542669  0.853819   \n",
            "4966  2.660890  1.041338  -0.014767  1.082953   2.295483  0.542669  0.853819   \n",
            "4967  2.660890  1.041338  -0.014585  1.113734   1.628506  0.542669  0.853819   \n",
            "4968 -0.297639 -0.680655  -0.014741  1.375375  -0.113144 -0.428455  2.592331   \n",
            "4969 -0.297639 -0.680655  -0.014785  1.221469   0.296386 -0.469630  2.645509   \n",
            "\n",
            "       st_logg  Habitable  \n",
            "0    -4.753516          0  \n",
            "1    -5.628856          0  \n",
            "2    -4.016388          0  \n",
            "3     0.176027          0  \n",
            "4    -0.031290          0  \n",
            "...        ...        ...  \n",
            "4965 -0.561101          0  \n",
            "4966 -0.561101          0  \n",
            "4967 -0.561101          0  \n",
            "4968 -4.407987          0  \n",
            "4969 -3.947282          0  \n",
            "\n",
            "[4970 rows x 9 columns]\n",
            "           PC1       PC2       PC3       PC4       PC5       PC6       PC7  \\\n",
            "0    -5.921098  2.136132 -0.100009  1.219829 -2.146979 -0.488821 -2.506191   \n",
            "1    -5.973171  0.465793  2.336940  1.325316 -2.465211 -0.833492 -1.325140   \n",
            "2    -4.282529 -0.054161  1.562153  0.723138 -1.229199 -1.394737 -0.411629   \n",
            "3    -0.536715  0.885458  0.192571  0.290150 -0.255809  1.015059  0.831517   \n",
            "4    -1.406176  3.151493 -4.037152  0.019683  0.943028 -1.509127 -1.545788   \n",
            "...        ...       ...       ...       ...       ...       ...       ...   \n",
            "4965 -1.471648  1.079724 -2.558876 -0.084855 -0.700913 -0.939611  0.172718   \n",
            "4966 -1.972253  1.942939 -2.269042  0.281228 -1.342459  0.947901 -0.553628   \n",
            "4967 -1.815204  1.682324 -2.347161  0.175610 -1.168719  0.421977 -0.383447   \n",
            "4968 -4.411025 -0.327042  1.542207  0.655896 -1.139280 -2.148758 -0.160683   \n",
            "4969 -4.227281 -0.198435  1.512501  0.660836 -1.127720 -1.676966 -0.300969   \n",
            "\n",
            "           PC8  Habitable  \n",
            "0     0.343974          0  \n",
            "1     0.613959          0  \n",
            "2     0.469068          0  \n",
            "3    -0.142003          0  \n",
            "4    -0.173649          0  \n",
            "...        ...        ...  \n",
            "4965 -0.165057          0  \n",
            "4966 -0.213645          0  \n",
            "4967 -0.198780          0  \n",
            "4968  0.690670          0  \n",
            "4969  0.352196          0  \n",
            "\n",
            "[4970 rows x 9 columns]\n",
            "           PC1       PC2       PC3       PC4       PC5       PC6       PC7  \\\n",
            "0    -0.055681  0.028773 -0.001378  0.017422 -0.031323 -0.007439 -0.043707   \n",
            "1    -0.056170  0.006274  0.032195  0.018928 -0.035966 -0.012684 -0.023110   \n",
            "2    -0.040272 -0.000730  0.021521  0.010328 -0.017933 -0.021224 -0.007179   \n",
            "3    -0.005047  0.011927  0.002653  0.004144 -0.003732  0.015447  0.014501   \n",
            "4    -0.013223  0.042449 -0.055618  0.000281  0.013758 -0.022965 -0.026958   \n",
            "...        ...       ...       ...       ...       ...       ...       ...   \n",
            "4965 -0.013839  0.014543 -0.035253 -0.001212 -0.010226 -0.014298  0.003012   \n",
            "4966 -0.018547  0.026171 -0.031260  0.004017 -0.019586  0.014425 -0.009655   \n",
            "4967 -0.017070  0.022660 -0.032336  0.002508 -0.017051  0.006421 -0.006687   \n",
            "4968 -0.041480 -0.004405  0.021246  0.009368 -0.016621 -0.032699 -0.002802   \n",
            "4969 -0.039752 -0.002673  0.020837  0.009438 -0.016453 -0.025519 -0.005249   \n",
            "\n",
            "           PC8  Habitable  \n",
            "0     0.016105          0  \n",
            "1     0.028746          0  \n",
            "2     0.021962          0  \n",
            "3    -0.006649          0  \n",
            "4    -0.008130          0  \n",
            "...        ...        ...  \n",
            "4965 -0.007728          0  \n",
            "4966 -0.010003          0  \n",
            "4967 -0.009307          0  \n",
            "4968  0.032337          0  \n",
            "4969  0.016490          0  \n",
            "\n",
            "[4970 rows x 9 columns]\n"
          ]
        }
      ]
    },
    {
      "cell_type": "markdown",
      "source": [
        "## Build model functions to test the datasets"
      ],
      "metadata": {
        "id": "IGcwjmXyfApQ"
      }
    },
    {
      "cell_type": "markdown",
      "source": [
        "### SVM Classifier"
      ],
      "metadata": {
        "id": "qsfJV5-ZfEmG"
      }
    },
    {
      "cell_type": "code",
      "source": [
        "def svc_model_builder(X_train, y_train, X_test):\n",
        "  svc = SVC(random_state = 12)\n",
        "  param_grid = {'C': [1, 10, 100, 1000], 'gamma': [0.001, 0.0001], 'kernel': ['sigmoid', 'rbf']}\n",
        "  clf = GridSearchCV(svc, param_grid, cv = 10, scoring = 'recall', return_train_score = False)\n",
        "  clf.fit(X_train, y_train)\n",
        "  return clf.predict(X_test)"
      ],
      "metadata": {
        "id": "06N6Yvs1MQpM"
      },
      "execution_count": 3,
      "outputs": []
    },
    {
      "cell_type": "markdown",
      "source": [
        "MLP Classifier"
      ],
      "metadata": {
        "id": "0N4YH6_vfG2I"
      }
    },
    {
      "cell_type": "code",
      "source": [
        "def mlpc_model_builder(X_train, y_train, X_test):\n",
        "  n_features = len(X.columns)\n",
        "  mlpc = MLPClassifier(hidden_layer_sizes = [i for i in range(n_features - 2, 1, -2)], early_stopping = True, random_state = 12, max_iter = 10000)\n",
        "  param_grid = {'solver': ['lbfgs', 'adam', 'sgd']}\n",
        "  clf = GridSearchCV(mlpc, param_grid, cv = 10, scoring = 'recall', return_train_score = False)\n",
        "  clf.fit(X_train.values, y_train)\n",
        "  return clf.predict(X_test.values)"
      ],
      "metadata": {
        "id": "Gyu1nQbM_Z7D"
      },
      "execution_count": 4,
      "outputs": []
    },
    {
      "cell_type": "markdown",
      "source": [
        "### KNN"
      ],
      "metadata": {
        "id": "j8E7mW6FfJND"
      }
    },
    {
      "cell_type": "code",
      "source": [
        "def knn_model_builder(X_train, y_train, X_test):\n",
        "  knn = KNeighborsClassifier()\n",
        "  param_grid = {'n_neighbors': range(1, 3)}\n",
        "  clf = GridSearchCV(knn, param_grid, cv = 10, scoring = 'recall', return_train_score = False)\n",
        "  clf.fit(X_train, y_train)\n",
        "  return clf.predict(X_test)"
      ],
      "metadata": {
        "id": "-Q2aD2T4rkSz"
      },
      "execution_count": 5,
      "outputs": []
    },
    {
      "cell_type": "markdown",
      "source": [
        "### Logistic Regression"
      ],
      "metadata": {
        "id": "GfoddLaZfKn2"
      }
    },
    {
      "cell_type": "code",
      "source": [
        "def lr_model_builder(X_train, y_train, X_test):\n",
        "  logreg = LogisticRegression(random_state = 12)\n",
        "  param_grid = {'penalty': ['l2'], 'C': [0.01, 0.1, 1, 10, 100], 'solver': ['lbfgs'], 'class_weight' : ['balanced'], 'max_iter' : [10000]}\n",
        "  clf = GridSearchCV(logreg, param_grid, cv = 10, scoring = 'recall', return_train_score = False)\n",
        "  clf.fit(X_train, y_train)\n",
        "  return clf.predict(X_test)"
      ],
      "metadata": {
        "id": "nnPm0mTTUpRG"
      },
      "execution_count": 6,
      "outputs": []
    },
    {
      "cell_type": "markdown",
      "source": [
        "## Run the model functions for different resampling methods run on the various datasets since we have an imbalanced distribution"
      ],
      "metadata": {
        "id": "fJJHuAI4fMro"
      }
    },
    {
      "cell_type": "code",
      "source": [
        "Dataset_names = ['PHL - All Features', 'Ur - All PCs', 'U - All PCs', 'PHL - Selected Features', 'Ur - Top 6 PCs', 'U - Top 6 PCs']\n",
        "Model_names = ['SVM', 'MLPClassifier', 'KNN', 'Logistic Regression']\n",
        "Sampler_names = ['ClusterCentroids', 'SMOTE', 'ADASYN', 'SMOTETomek']\n",
        "metrics_df = pd.DataFrame(columns = ['Dataset', 'Model', 'Sampler', 'F1 Score', 'Precision', 'Sensitivity/Recall(TPR)', 'Specificity(TNR)', 'AUC', 'Time(sec)'])\n",
        "for i, dataset in enumerate([PHL, Ur, U, PHL[[\"sy_pnum\", \"pl_orbper\", \"pl_rade\", \"pl_bmasse\", \"st_teff\", \"st_lum\", \"Habitable\"]], Ur[[\"PC1\", \"PC2\", \"PC3\", \"PC4\", \"PC5\", \"PC6\", \"Habitable\"]], U[[\"PC1\", \"PC2\", \"PC3\", \"PC4\", \"PC5\", \"PC6\", \"Habitable\"]]]):\n",
        "  for j, model in enumerate([svc_model_builder, mlpc_model_builder, knn_model_builder, lr_model_builder]):\n",
        "    for k, sampler in enumerate([ClusterCentroids(random_state = 12), SMOTE(random_state = 12), ADASYN(random_state = 12), SMOTETomek(random_state = 12)]):\n",
        "      start_time = time.time()\n",
        "      X = dataset.iloc[:, :-1]\n",
        "      y = dataset.iloc[:, -1]\n",
        "      X_resampled, y_resampled = sampler.fit_resample(X, y)\n",
        "      X_train, X_test, y_train, y_test = train_test_split(X_resampled, y_resampled, test_size = 0.33, random_state = 12, stratify = y_resampled)\n",
        "      y_pred = model(X_train, y_train, X_test)\n",
        "      disp = ConfusionMatrixDisplay.from_predictions(y_test, y_pred, display_labels = [\"Not Habitable\", \"Habitable\"])\n",
        "      disp.ax_.set_title(Model_names[j] + \" - \" + Dataset_names[i] + \" - \" + Sampler_names[k])\n",
        "      plt.savefig(Model_names[j] + \" - \" + Dataset_names[i] + \" - \" + Sampler_names[k] + \".png\")\n",
        "      plt.close()\n",
        "      metrics_df.loc[len(metrics_df.index)] = [Dataset_names[i], Model_names[j], Sampler_names[k], f1_score(y_test, y_pred), precision_score(y_test, y_pred), recall_score(y_test, y_pred), np.mean(recall_score(y_test, y_pred, pos_label = 1)), roc_auc_score(y_test, y_pred), str(time.time() - start_time)]"
      ],
      "metadata": {
        "id": "6u41Cq5EPrmv",
        "colab": {
          "base_uri": "https://localhost:8080/"
        },
        "outputId": "3de78567-351b-4a52-89f6-373248a3261c"
      },
      "execution_count": 10,
      "outputs": [
        {
          "output_type": "stream",
          "name": "stderr",
          "text": [
            "/Users/sauravsjk/miniconda/lib/python3.9/site-packages/sklearn/neural_network/_multilayer_perceptron.py:559: ConvergenceWarning: lbfgs failed to converge (status=2):\n",
            "ABNORMAL_TERMINATION_IN_LNSRCH.\n",
            "\n",
            "Increase the number of iterations (max_iter) or scale the data as shown in:\n",
            "    https://scikit-learn.org/stable/modules/preprocessing.html\n",
            "  self.n_iter_ = _check_optimize_result(\"lbfgs\", opt_res, self.max_iter)\n"
          ]
        }
      ]
    },
    {
      "cell_type": "markdown",
      "source": [
        "## Print the sorted results and write the data to an excel file"
      ],
      "metadata": {
        "id": "EPkrrvhzl_0i"
      }
    },
    {
      "cell_type": "code",
      "source": [
        "metrics_df_f1 = metrics_df.sort_values(by = [\"F1 Score\", \"Sensitivity/Recall(TPR)\", \"Precision\", \"Specificity(TNR)\", \"AUC\"], ascending = False)\n",
        "metrics_df_recall = metrics_df.sort_values(by = [\"Sensitivity/Recall(TPR)\", \"F1 Score\", \"Precision\", \"Specificity(TNR)\", \"AUC\"], ascending = False)\n",
        "print (\"\\nPerformance Results (F1 Score sorted):\\n\")\n",
        "print (metrics_df_f1.to_markdown(index = False))\n",
        "print (\"\\nPerformance Results (Recall sorted):\\n\")\n",
        "print (metrics_df_recall.to_markdown(index = False))"
      ],
      "metadata": {
        "colab": {
          "base_uri": "https://localhost:8080/"
        },
        "id": "RyugjtSeln3n",
        "outputId": "843a92ec-cdc0-4dc0-943d-05aeb87fd054"
      },
      "execution_count": 13,
      "outputs": [
        {
          "output_type": "stream",
          "name": "stdout",
          "text": [
            "\n",
            "Performance Results (F1 Score sorted):\n",
            "\n",
            "| Dataset                 | Model               | Sampler          |   F1 Score |   Precision |   Sensitivity/Recall(TPR) |   Specificity(TNR) |      AUC |   Time(sec) |\n",
            "|:------------------------|:--------------------|:-----------------|-----------:|------------:|--------------------------:|-------------------:|---------:|------------:|\n",
            "| U - All PCs             | KNN                 | SMOTETomek       |   0.984793 |    0.971206 |                  0.998766 |           0.998766 | 0.984577 |    0.303152 |\n",
            "| U - All PCs             | KNN                 | SMOTE            |   0.981796 |    0.966547 |                  0.997534 |           0.997534 | 0.981494 |    0.2735   |\n",
            "| U - All PCs             | KNN                 | ADASYN           |   0.981258 |    0.963205 |                  1        |           1        | 0.980888 |    0.27903  |\n",
            "| PHL - All Features      | KNN                 | SMOTE            |   0.977348 |    0.957963 |                  0.997534 |           0.997534 | 0.976867 |    0.399019 |\n",
            "| Ur - All PCs            | KNN                 | SMOTE            |   0.977348 |    0.957963 |                  0.997534 |           0.997534 | 0.976867 |    0.280332 |\n",
            "| PHL - All Features      | KNN                 | SMOTETomek       |   0.977321 |    0.956779 |                  0.998764 |           0.998764 | 0.976823 |    0.482973 |\n",
            "| Ur - All PCs            | KNN                 | SMOTETomek       |   0.977321 |    0.956779 |                  0.998764 |           0.998764 | 0.976823 |    0.290485 |\n",
            "| PHL - All Features      | KNN                 | ADASYN           |   0.976674 |    0.957813 |                  0.996292 |           0.996292 | 0.976246 |    0.38016  |\n",
            "| Ur - All PCs            | KNN                 | ADASYN           |   0.976674 |    0.957813 |                  0.996292 |           0.996292 | 0.976246 |    0.262761 |\n",
            "| PHL - Selected Features | KNN                 | SMOTETomek       |   0.974297 |    0.952691 |                  0.996906 |           0.996906 | 0.973685 |    0.360888 |\n",
            "| Ur - Top 6 PCs          | KNN                 | SMOTETomek       |   0.97425  |    0.953171 |                  0.996283 |           0.996283 | 0.973668 |    0.262909 |\n",
            "| U - Top 6 PCs           | KNN                 | SMOTETomek       |   0.974188 |    0.955331 |                  0.993804 |           0.993804 | 0.973668 |    0.260317 |\n",
            "| PHL - Selected Features | KNN                 | SMOTE            |   0.973724 |    0.954411 |                  0.993835 |           0.993835 | 0.973167 |    0.304607 |\n",
            "| PHL - Selected Features | KNN                 | ADASYN           |   0.973676 |    0.954896 |                  0.99321  |           0.99321  | 0.973177 |    0.304185 |\n",
            "| Ur - Top 6 PCs          | KNN                 | SMOTE            |   0.971584 |    0.953144 |                  0.990752 |           0.990752 | 0.971008 |    0.266868 |\n",
            "| Ur - Top 6 PCs          | KNN                 | ADASYN           |   0.969329 |    0.952836 |                  0.986403 |           0.986403 | 0.968834 |    0.242339 |\n",
            "| U - Top 6 PCs           | KNN                 | SMOTE            |   0.96858  |    0.949645 |                  0.988286 |           0.988286 | 0.967925 |    0.2558   |\n",
            "| U - Top 6 PCs           | KNN                 | ADASYN           |   0.968542 |    0.951277 |                  0.986445 |           0.986445 | 0.967945 |    0.243816 |\n",
            "| PHL - Selected Features | MLPClassifier       | SMOTETomek       |   0.918101 |    0.881984 |                  0.957302 |           0.957302 | 0.914564 |   18.5457   |\n",
            "| PHL - Selected Features | MLPClassifier       | ADASYN           |   0.905481 |    0.870655 |                  0.94321  |           0.94321  | 0.90163  |   32.6974   |\n",
            "| Ur - Top 6 PCs          | MLPClassifier       | SMOTE            |   0.896018 |    0.812437 |                  0.998767 |           0.998767 | 0.884023 |    7.08186  |\n",
            "| Ur - Top 6 PCs          | MLPClassifier       | SMOTETomek       |   0.893948 |    0.809859 |                  0.997522 |           0.997522 | 0.88166  |    7.55345  |\n",
            "| Ur - Top 6 PCs          | MLPClassifier       | ADASYN           |   0.892333 |    0.80802  |                  0.996292 |           0.996292 | 0.880009 |    8.2226   |\n",
            "| PHL - Selected Features | SVM                 | SMOTETomek       |   0.867326 |    0.840395 |                  0.89604  |           0.89604  | 0.86288  |   47.0269   |\n",
            "| U - Top 6 PCs           | MLPClassifier       | SMOTETomek       |   0.864081 |    0.827567 |                  0.903965 |           0.903965 | 0.857807 |    6.60562  |\n",
            "| PHL - Selected Features | MLPClassifier       | SMOTE            |   0.855763 |    0.838061 |                  0.874229 |           0.874229 | 0.852599 |   20.5783   |\n",
            "| PHL - All Features      | SVM                 | SMOTETomek       |   0.855576 |    0.84375  |                  0.867738 |           0.867738 | 0.853523 |   46.165    |\n",
            "| Ur - All PCs            | SVM                 | SMOTETomek       |   0.855576 |    0.84375  |                  0.867738 |           0.867738 | 0.853523 |   45.9292   |\n",
            "| PHL - Selected Features | SVM                 | SMOTE            |   0.853688 |    0.837485 |                  0.87053  |           0.87053  | 0.850749 |   46.5906   |\n",
            "| PHL - Selected Features | SVM                 | ADASYN           |   0.85243  |    0.829055 |                  0.87716  |           0.87716  | 0.84826  |   48.9139   |\n",
            "| PHL - All Features      | SVM                 | ADASYN           |   0.851942 |    0.83671  |                  0.867738 |           0.867738 | 0.849353 |   48.3056   |\n",
            "| Ur - All PCs            | SVM                 | ADASYN           |   0.851942 |    0.83671  |                  0.867738 |           0.867738 | 0.849353 |   48.4864   |\n",
            "| U - Top 6 PCs           | MLPClassifier       | SMOTE            |   0.851326 |    0.851852 |                  0.850801 |           0.850801 | 0.851372 |    6.11153  |\n",
            "| PHL - All Features      | SVM                 | SMOTE            |   0.850259 |    0.841279 |                  0.859433 |           0.859433 | 0.848594 |   46.1617   |\n",
            "| Ur - All PCs            | SVM                 | SMOTE            |   0.850259 |    0.841279 |                  0.859433 |           0.859433 | 0.848594 |   46.6003   |\n",
            "| Ur - Top 6 PCs          | SVM                 | SMOTETomek       |   0.849772 |    0.832838 |                  0.86741  |           0.86741  | 0.846654 |   45.8877   |\n",
            "| PHL - Selected Features | Logistic Regression | SMOTETomek       |   0.848313 |    0.864952 |                  0.832302 |           0.832302 | 0.851136 |    0.826926 |\n",
            "| U - Top 6 PCs           | MLPClassifier       | ADASYN           |   0.847354 |    0.841434 |                  0.853358 |           0.853358 | 0.846223 |    7.01535  |\n",
            "| Ur - Top 6 PCs          | SVM                 | ADASYN           |   0.843344 |    0.824189 |                  0.863412 |           0.863412 | 0.839787 |   48.9208   |\n",
            "| Ur - Top 6 PCs          | SVM                 | SMOTE            |   0.842266 |    0.83213  |                  0.852651 |           0.852651 | 0.840268 |   47.0511   |\n",
            "| PHL - Selected Features | Logistic Regression | ADASYN           |   0.841875 |    0.852532 |                  0.831481 |           0.831481 | 0.843916 |    0.679947 |\n",
            "| Ur - Top 6 PCs          | Logistic Regression | ADASYN           |   0.840625 |    0.85019  |                  0.831273 |           0.831273 | 0.842534 |    0.758952 |\n",
            "| U - Top 6 PCs           | Logistic Regression | SMOTETomek       |   0.834656 |    0.855563 |                  0.814746 |           0.814746 | 0.8386   |    0.61431  |\n",
            "| PHL - All Features      | Logistic Regression | SMOTETomek       |   0.834391 |    0.857236 |                  0.812732 |           0.812732 | 0.83869  |    1.94163  |\n",
            "| Ur - All PCs            | Logistic Regression | SMOTETomek       |   0.834391 |    0.857236 |                  0.812732 |           0.812732 | 0.83869  |    0.944539 |\n",
            "| PHL - Selected Features | Logistic Regression | SMOTE            |   0.832908 |    0.862616 |                  0.805179 |           0.805179 | 0.838431 |    0.718957 |\n",
            "| PHL - All Features      | Logistic Regression | ADASYN           |   0.832545 |    0.849968 |                  0.815822 |           0.815822 | 0.836042 |    0.831365 |\n",
            "| Ur - All PCs            | Logistic Regression | ADASYN           |   0.832545 |    0.849968 |                  0.815822 |           0.815822 | 0.836042 |    0.890846 |\n",
            "| Ur - Top 6 PCs          | Logistic Regression | SMOTETomek       |   0.829949 |    0.850455 |                  0.810409 |           0.810409 | 0.833953 |    0.826356 |\n",
            "| U - Top 6 PCs           | Logistic Regression | ADASYN           |   0.8297   |    0.851492 |                  0.808996 |           0.808996 | 0.833906 |    0.519544 |\n",
            "| U - Top 6 PCs           | Logistic Regression | SMOTE            |   0.82888  |    0.85611  |                  0.803329 |           0.803329 | 0.834114 |    0.568023 |\n",
            "| Ur - Top 6 PCs          | Logistic Regression | SMOTE            |   0.828244 |    0.855453 |                  0.802713 |           0.802713 | 0.833497 |    1.00947  |\n",
            "| U - All PCs             | SVM                 | SMOTETomek       |   0.824355 |    0.756047 |                  0.906231 |           0.906231 | 0.806909 |   96.0284   |\n",
            "| PHL - All Features      | Logistic Regression | SMOTE            |   0.821611 |    0.853254 |                  0.792232 |           0.792232 | 0.827948 |    0.917076 |\n",
            "| Ur - All PCs            | Logistic Regression | SMOTE            |   0.821611 |    0.853254 |                  0.792232 |           0.792232 | 0.827948 |    0.866411 |\n",
            "| U - All PCs             | Logistic Regression | ADASYN           |   0.816379 |    0.848969 |                  0.786198 |           0.786198 | 0.823124 |    0.67398  |\n",
            "| U - All PCs             | Logistic Regression | SMOTETomek       |   0.816155 |    0.856852 |                  0.779149 |           0.779149 | 0.824491 |    0.705607 |\n",
            "| U - All PCs             | Logistic Regression | SMOTE            |   0.814647 |    0.858607 |                  0.774969 |           0.774969 | 0.823635 |    0.886986 |\n",
            "| U - All PCs             | SVM                 | SMOTE            |   0.806279 |    0.879738 |                  0.744143 |           0.744143 | 0.821177 |   96.5864   |\n",
            "| Ur - Top 6 PCs          | MLPClassifier       | ClusterCentroids |   0.8      |    0.761905 |                  0.842105 |           0.842105 | 0.789474 |    0.967662 |\n",
            "| PHL - All Features      | KNN                 | ClusterCentroids |   0.790698 |    0.708333 |                  0.894737 |           0.894737 | 0.763158 |    0.729481 |\n",
            "| Ur - All PCs            | KNN                 | ClusterCentroids |   0.790698 |    0.708333 |                  0.894737 |           0.894737 | 0.763158 |    0.641807 |\n",
            "| U - Top 6 PCs           | MLPClassifier       | ClusterCentroids |   0.790698 |    0.708333 |                  0.894737 |           0.894737 | 0.763158 |    1.11066  |\n",
            "| PHL - Selected Features | MLPClassifier       | ClusterCentroids |   0.777778 |    0.823529 |                  0.736842 |           0.736842 | 0.789474 |   12.2362   |\n",
            "| PHL - All Features      | Logistic Regression | ClusterCentroids |   0.769231 |    0.75     |                  0.789474 |           0.789474 | 0.763158 |    0.925587 |\n",
            "| Ur - All PCs            | Logistic Regression | ClusterCentroids |   0.769231 |    0.75     |                  0.789474 |           0.789474 | 0.763158 |    0.877183 |\n",
            "| PHL - Selected Features | Logistic Regression | ClusterCentroids |   0.764706 |    0.866667 |                  0.684211 |           0.684211 | 0.789474 |    1.57742  |\n",
            "| U - Top 6 PCs           | Logistic Regression | ClusterCentroids |   0.755556 |    0.653846 |                  0.894737 |           0.894737 | 0.710526 |    0.633762 |\n",
            "| U - Top 6 PCs           | KNN                 | ClusterCentroids |   0.742857 |    0.8125   |                  0.684211 |           0.684211 | 0.763158 |    1.13917  |\n",
            "| U - All PCs             | KNN                 | ClusterCentroids |   0.736842 |    0.736842 |                  0.736842 |           0.736842 | 0.736842 |    1.80363  |\n",
            "| Ur - Top 6 PCs          | KNN                 | ClusterCentroids |   0.736842 |    0.736842 |                  0.736842 |           0.736842 | 0.736842 |    0.81665  |\n",
            "| PHL - All Features      | SVM                 | ClusterCentroids |   0.716981 |    0.558824 |                  1        |           1        | 0.605263 |    2.0228   |\n",
            "| Ur - All PCs            | SVM                 | ClusterCentroids |   0.716981 |    0.558824 |                  1        |           1        | 0.605263 |    2.19185  |\n",
            "| PHL - Selected Features | KNN                 | ClusterCentroids |   0.705882 |    0.8      |                  0.631579 |           0.631579 | 0.736842 |    5.96527  |\n",
            "| Ur - Top 6 PCs          | Logistic Regression | ClusterCentroids |   0.702703 |    0.722222 |                  0.684211 |           0.684211 | 0.710526 |    0.786177 |\n",
            "| Ur - Top 6 PCs          | SVM                 | ClusterCentroids |   0.690909 |    0.527778 |                  1        |           1        | 0.552632 |    1.0954   |\n",
            "| U - Top 6 PCs           | SVM                 | ClusterCentroids |   0.690909 |    0.527778 |                  1        |           1        | 0.552632 |    1.23518  |\n",
            "| U - All PCs             | Logistic Regression | ClusterCentroids |   0.681818 |    0.6      |                  0.789474 |           0.789474 | 0.631579 |    2.17085  |\n",
            "| PHL - Selected Features | SVM                 | ClusterCentroids |   0.678571 |    0.513514 |                  1        |           1        | 0.526316 |    1.38278  |\n",
            "| U - Top 6 PCs           | SVM                 | SMOTE            |   0.670248 |    0.50404  |                  1        |           1        | 0.507711 |   96.2178   |\n",
            "| U - Top 6 PCs           | SVM                 | SMOTETomek       |   0.666804 |    0.500155 |                  1        |           1        | 0.50031  |   95.8378   |\n",
            "| PHL - All Features      | MLPClassifier       | SMOTE            |   0.666804 |    0.500154 |                  1        |           1        | 0.5      |    1.40393  |\n",
            "| Ur - All PCs            | MLPClassifier       | SMOTE            |   0.666804 |    0.500154 |                  1        |           1        | 0.5      |   23.5911   |\n",
            "| U - All PCs             | MLPClassifier       | SMOTE            |   0.666804 |    0.500154 |                  1        |           1        | 0.5      |    1.39719  |\n",
            "| U - All PCs             | SVM                 | ADASYN           |   0.666804 |    0.500154 |                  1        |           1        | 0.5      |   97.1302   |\n",
            "| U - All PCs             | MLPClassifier       | ADASYN           |   0.666804 |    0.500154 |                  1        |           1        | 0.5      |    1.31418  |\n",
            "| U - Top 6 PCs           | SVM                 | ADASYN           |   0.666804 |    0.500154 |                  1        |           1        | 0.5      |   97.7179   |\n",
            "| PHL - All Features      | MLPClassifier       | ClusterCentroids |   0.666667 |    0.5      |                  1        |           1        | 0.5      |    1.00427  |\n",
            "| PHL - All Features      | MLPClassifier       | SMOTETomek       |   0.666667 |    0.5      |                  1        |           1        | 0.5      |    1.48559  |\n",
            "| Ur - All PCs            | MLPClassifier       | ClusterCentroids |   0.666667 |    0.5      |                  1        |           1        | 0.5      |    0.787182 |\n",
            "| Ur - All PCs            | MLPClassifier       | SMOTETomek       |   0.666667 |    0.5      |                  1        |           1        | 0.5      |   31.3228   |\n",
            "| U - All PCs             | SVM                 | ClusterCentroids |   0.666667 |    0.5      |                  1        |           1        | 0.5      |    1.43576  |\n",
            "| U - All PCs             | MLPClassifier       | ClusterCentroids |   0.666667 |    0.5      |                  1        |           1        | 0.5      |    1.25713  |\n",
            "| U - All PCs             | MLPClassifier       | SMOTETomek       |   0.666667 |    0.5      |                  1        |           1        | 0.5      |    1.36968  |\n",
            "| PHL - All Features      | MLPClassifier       | ADASYN           |   0.666255 |    0.499537 |                  1        |           1        | 0.5      |    1.40386  |\n",
            "| Ur - All PCs            | MLPClassifier       | ADASYN           |   0.666255 |    0.499537 |                  1        |           1        | 0.5      |   33.6312   |\n",
            "\n",
            "Performance Results (Recall sorted):\n",
            "\n",
            "| Dataset                 | Model               | Sampler          |   F1 Score |   Precision |   Sensitivity/Recall(TPR) |   Specificity(TNR) |      AUC |   Time(sec) |\n",
            "|:------------------------|:--------------------|:-----------------|-----------:|------------:|--------------------------:|-------------------:|---------:|------------:|\n",
            "| U - All PCs             | KNN                 | ADASYN           |   0.981258 |    0.963205 |                  1        |           1        | 0.980888 |    0.27903  |\n",
            "| PHL - All Features      | SVM                 | ClusterCentroids |   0.716981 |    0.558824 |                  1        |           1        | 0.605263 |    2.0228   |\n",
            "| Ur - All PCs            | SVM                 | ClusterCentroids |   0.716981 |    0.558824 |                  1        |           1        | 0.605263 |    2.19185  |\n",
            "| Ur - Top 6 PCs          | SVM                 | ClusterCentroids |   0.690909 |    0.527778 |                  1        |           1        | 0.552632 |    1.0954   |\n",
            "| U - Top 6 PCs           | SVM                 | ClusterCentroids |   0.690909 |    0.527778 |                  1        |           1        | 0.552632 |    1.23518  |\n",
            "| PHL - Selected Features | SVM                 | ClusterCentroids |   0.678571 |    0.513514 |                  1        |           1        | 0.526316 |    1.38278  |\n",
            "| U - Top 6 PCs           | SVM                 | SMOTE            |   0.670248 |    0.50404  |                  1        |           1        | 0.507711 |   96.2178   |\n",
            "| U - Top 6 PCs           | SVM                 | SMOTETomek       |   0.666804 |    0.500155 |                  1        |           1        | 0.50031  |   95.8378   |\n",
            "| PHL - All Features      | MLPClassifier       | SMOTE            |   0.666804 |    0.500154 |                  1        |           1        | 0.5      |    1.40393  |\n",
            "| Ur - All PCs            | MLPClassifier       | SMOTE            |   0.666804 |    0.500154 |                  1        |           1        | 0.5      |   23.5911   |\n",
            "| U - All PCs             | MLPClassifier       | SMOTE            |   0.666804 |    0.500154 |                  1        |           1        | 0.5      |    1.39719  |\n",
            "| U - All PCs             | SVM                 | ADASYN           |   0.666804 |    0.500154 |                  1        |           1        | 0.5      |   97.1302   |\n",
            "| U - All PCs             | MLPClassifier       | ADASYN           |   0.666804 |    0.500154 |                  1        |           1        | 0.5      |    1.31418  |\n",
            "| U - Top 6 PCs           | SVM                 | ADASYN           |   0.666804 |    0.500154 |                  1        |           1        | 0.5      |   97.7179   |\n",
            "| PHL - All Features      | MLPClassifier       | ClusterCentroids |   0.666667 |    0.5      |                  1        |           1        | 0.5      |    1.00427  |\n",
            "| PHL - All Features      | MLPClassifier       | SMOTETomek       |   0.666667 |    0.5      |                  1        |           1        | 0.5      |    1.48559  |\n",
            "| Ur - All PCs            | MLPClassifier       | ClusterCentroids |   0.666667 |    0.5      |                  1        |           1        | 0.5      |    0.787182 |\n",
            "| Ur - All PCs            | MLPClassifier       | SMOTETomek       |   0.666667 |    0.5      |                  1        |           1        | 0.5      |   31.3228   |\n",
            "| U - All PCs             | SVM                 | ClusterCentroids |   0.666667 |    0.5      |                  1        |           1        | 0.5      |    1.43576  |\n",
            "| U - All PCs             | MLPClassifier       | ClusterCentroids |   0.666667 |    0.5      |                  1        |           1        | 0.5      |    1.25713  |\n",
            "| U - All PCs             | MLPClassifier       | SMOTETomek       |   0.666667 |    0.5      |                  1        |           1        | 0.5      |    1.36968  |\n",
            "| PHL - All Features      | MLPClassifier       | ADASYN           |   0.666255 |    0.499537 |                  1        |           1        | 0.5      |    1.40386  |\n",
            "| Ur - All PCs            | MLPClassifier       | ADASYN           |   0.666255 |    0.499537 |                  1        |           1        | 0.5      |   33.6312   |\n",
            "| Ur - Top 6 PCs          | MLPClassifier       | SMOTE            |   0.896018 |    0.812437 |                  0.998767 |           0.998767 | 0.884023 |    7.08186  |\n",
            "| U - All PCs             | KNN                 | SMOTETomek       |   0.984793 |    0.971206 |                  0.998766 |           0.998766 | 0.984577 |    0.303152 |\n",
            "| PHL - All Features      | KNN                 | SMOTETomek       |   0.977321 |    0.956779 |                  0.998764 |           0.998764 | 0.976823 |    0.482973 |\n",
            "| Ur - All PCs            | KNN                 | SMOTETomek       |   0.977321 |    0.956779 |                  0.998764 |           0.998764 | 0.976823 |    0.290485 |\n",
            "| U - All PCs             | KNN                 | SMOTE            |   0.981796 |    0.966547 |                  0.997534 |           0.997534 | 0.981494 |    0.2735   |\n",
            "| PHL - All Features      | KNN                 | SMOTE            |   0.977348 |    0.957963 |                  0.997534 |           0.997534 | 0.976867 |    0.399019 |\n",
            "| Ur - All PCs            | KNN                 | SMOTE            |   0.977348 |    0.957963 |                  0.997534 |           0.997534 | 0.976867 |    0.280332 |\n",
            "| Ur - Top 6 PCs          | MLPClassifier       | SMOTETomek       |   0.893948 |    0.809859 |                  0.997522 |           0.997522 | 0.88166  |    7.55345  |\n",
            "| PHL - Selected Features | KNN                 | SMOTETomek       |   0.974297 |    0.952691 |                  0.996906 |           0.996906 | 0.973685 |    0.360888 |\n",
            "| PHL - All Features      | KNN                 | ADASYN           |   0.976674 |    0.957813 |                  0.996292 |           0.996292 | 0.976246 |    0.38016  |\n",
            "| Ur - All PCs            | KNN                 | ADASYN           |   0.976674 |    0.957813 |                  0.996292 |           0.996292 | 0.976246 |    0.262761 |\n",
            "| Ur - Top 6 PCs          | MLPClassifier       | ADASYN           |   0.892333 |    0.80802  |                  0.996292 |           0.996292 | 0.880009 |    8.2226   |\n",
            "| Ur - Top 6 PCs          | KNN                 | SMOTETomek       |   0.97425  |    0.953171 |                  0.996283 |           0.996283 | 0.973668 |    0.262909 |\n",
            "| PHL - Selected Features | KNN                 | SMOTE            |   0.973724 |    0.954411 |                  0.993835 |           0.993835 | 0.973167 |    0.304607 |\n",
            "| U - Top 6 PCs           | KNN                 | SMOTETomek       |   0.974188 |    0.955331 |                  0.993804 |           0.993804 | 0.973668 |    0.260317 |\n",
            "| PHL - Selected Features | KNN                 | ADASYN           |   0.973676 |    0.954896 |                  0.99321  |           0.99321  | 0.973177 |    0.304185 |\n",
            "| Ur - Top 6 PCs          | KNN                 | SMOTE            |   0.971584 |    0.953144 |                  0.990752 |           0.990752 | 0.971008 |    0.266868 |\n",
            "| U - Top 6 PCs           | KNN                 | SMOTE            |   0.96858  |    0.949645 |                  0.988286 |           0.988286 | 0.967925 |    0.2558   |\n",
            "| U - Top 6 PCs           | KNN                 | ADASYN           |   0.968542 |    0.951277 |                  0.986445 |           0.986445 | 0.967945 |    0.243816 |\n",
            "| Ur - Top 6 PCs          | KNN                 | ADASYN           |   0.969329 |    0.952836 |                  0.986403 |           0.986403 | 0.968834 |    0.242339 |\n",
            "| PHL - Selected Features | MLPClassifier       | SMOTETomek       |   0.918101 |    0.881984 |                  0.957302 |           0.957302 | 0.914564 |   18.5457   |\n",
            "| PHL - Selected Features | MLPClassifier       | ADASYN           |   0.905481 |    0.870655 |                  0.94321  |           0.94321  | 0.90163  |   32.6974   |\n",
            "| U - All PCs             | SVM                 | SMOTETomek       |   0.824355 |    0.756047 |                  0.906231 |           0.906231 | 0.806909 |   96.0284   |\n",
            "| U - Top 6 PCs           | MLPClassifier       | SMOTETomek       |   0.864081 |    0.827567 |                  0.903965 |           0.903965 | 0.857807 |    6.60562  |\n",
            "| PHL - Selected Features | SVM                 | SMOTETomek       |   0.867326 |    0.840395 |                  0.89604  |           0.89604  | 0.86288  |   47.0269   |\n",
            "| PHL - All Features      | KNN                 | ClusterCentroids |   0.790698 |    0.708333 |                  0.894737 |           0.894737 | 0.763158 |    0.729481 |\n",
            "| Ur - All PCs            | KNN                 | ClusterCentroids |   0.790698 |    0.708333 |                  0.894737 |           0.894737 | 0.763158 |    0.641807 |\n",
            "| U - Top 6 PCs           | MLPClassifier       | ClusterCentroids |   0.790698 |    0.708333 |                  0.894737 |           0.894737 | 0.763158 |    1.11066  |\n",
            "| U - Top 6 PCs           | Logistic Regression | ClusterCentroids |   0.755556 |    0.653846 |                  0.894737 |           0.894737 | 0.710526 |    0.633762 |\n",
            "| PHL - Selected Features | SVM                 | ADASYN           |   0.85243  |    0.829055 |                  0.87716  |           0.87716  | 0.84826  |   48.9139   |\n",
            "| PHL - Selected Features | MLPClassifier       | SMOTE            |   0.855763 |    0.838061 |                  0.874229 |           0.874229 | 0.852599 |   20.5783   |\n",
            "| PHL - Selected Features | SVM                 | SMOTE            |   0.853688 |    0.837485 |                  0.87053  |           0.87053  | 0.850749 |   46.5906   |\n",
            "| PHL - All Features      | SVM                 | SMOTETomek       |   0.855576 |    0.84375  |                  0.867738 |           0.867738 | 0.853523 |   46.165    |\n",
            "| Ur - All PCs            | SVM                 | SMOTETomek       |   0.855576 |    0.84375  |                  0.867738 |           0.867738 | 0.853523 |   45.9292   |\n",
            "| PHL - All Features      | SVM                 | ADASYN           |   0.851942 |    0.83671  |                  0.867738 |           0.867738 | 0.849353 |   48.3056   |\n",
            "| Ur - All PCs            | SVM                 | ADASYN           |   0.851942 |    0.83671  |                  0.867738 |           0.867738 | 0.849353 |   48.4864   |\n",
            "| Ur - Top 6 PCs          | SVM                 | SMOTETomek       |   0.849772 |    0.832838 |                  0.86741  |           0.86741  | 0.846654 |   45.8877   |\n",
            "| Ur - Top 6 PCs          | SVM                 | ADASYN           |   0.843344 |    0.824189 |                  0.863412 |           0.863412 | 0.839787 |   48.9208   |\n",
            "| PHL - All Features      | SVM                 | SMOTE            |   0.850259 |    0.841279 |                  0.859433 |           0.859433 | 0.848594 |   46.1617   |\n",
            "| Ur - All PCs            | SVM                 | SMOTE            |   0.850259 |    0.841279 |                  0.859433 |           0.859433 | 0.848594 |   46.6003   |\n",
            "| U - Top 6 PCs           | MLPClassifier       | ADASYN           |   0.847354 |    0.841434 |                  0.853358 |           0.853358 | 0.846223 |    7.01535  |\n",
            "| Ur - Top 6 PCs          | SVM                 | SMOTE            |   0.842266 |    0.83213  |                  0.852651 |           0.852651 | 0.840268 |   47.0511   |\n",
            "| U - Top 6 PCs           | MLPClassifier       | SMOTE            |   0.851326 |    0.851852 |                  0.850801 |           0.850801 | 0.851372 |    6.11153  |\n",
            "| Ur - Top 6 PCs          | MLPClassifier       | ClusterCentroids |   0.8      |    0.761905 |                  0.842105 |           0.842105 | 0.789474 |    0.967662 |\n",
            "| PHL - Selected Features | Logistic Regression | SMOTETomek       |   0.848313 |    0.864952 |                  0.832302 |           0.832302 | 0.851136 |    0.826926 |\n",
            "| PHL - Selected Features | Logistic Regression | ADASYN           |   0.841875 |    0.852532 |                  0.831481 |           0.831481 | 0.843916 |    0.679947 |\n",
            "| Ur - Top 6 PCs          | Logistic Regression | ADASYN           |   0.840625 |    0.85019  |                  0.831273 |           0.831273 | 0.842534 |    0.758952 |\n",
            "| PHL - All Features      | Logistic Regression | ADASYN           |   0.832545 |    0.849968 |                  0.815822 |           0.815822 | 0.836042 |    0.831365 |\n",
            "| Ur - All PCs            | Logistic Regression | ADASYN           |   0.832545 |    0.849968 |                  0.815822 |           0.815822 | 0.836042 |    0.890846 |\n",
            "| U - Top 6 PCs           | Logistic Regression | SMOTETomek       |   0.834656 |    0.855563 |                  0.814746 |           0.814746 | 0.8386   |    0.61431  |\n",
            "| PHL - All Features      | Logistic Regression | SMOTETomek       |   0.834391 |    0.857236 |                  0.812732 |           0.812732 | 0.83869  |    1.94163  |\n",
            "| Ur - All PCs            | Logistic Regression | SMOTETomek       |   0.834391 |    0.857236 |                  0.812732 |           0.812732 | 0.83869  |    0.944539 |\n",
            "| Ur - Top 6 PCs          | Logistic Regression | SMOTETomek       |   0.829949 |    0.850455 |                  0.810409 |           0.810409 | 0.833953 |    0.826356 |\n",
            "| U - Top 6 PCs           | Logistic Regression | ADASYN           |   0.8297   |    0.851492 |                  0.808996 |           0.808996 | 0.833906 |    0.519544 |\n",
            "| PHL - Selected Features | Logistic Regression | SMOTE            |   0.832908 |    0.862616 |                  0.805179 |           0.805179 | 0.838431 |    0.718957 |\n",
            "| U - Top 6 PCs           | Logistic Regression | SMOTE            |   0.82888  |    0.85611  |                  0.803329 |           0.803329 | 0.834114 |    0.568023 |\n",
            "| Ur - Top 6 PCs          | Logistic Regression | SMOTE            |   0.828244 |    0.855453 |                  0.802713 |           0.802713 | 0.833497 |    1.00947  |\n",
            "| PHL - All Features      | Logistic Regression | SMOTE            |   0.821611 |    0.853254 |                  0.792232 |           0.792232 | 0.827948 |    0.917076 |\n",
            "| Ur - All PCs            | Logistic Regression | SMOTE            |   0.821611 |    0.853254 |                  0.792232 |           0.792232 | 0.827948 |    0.866411 |\n",
            "| PHL - All Features      | Logistic Regression | ClusterCentroids |   0.769231 |    0.75     |                  0.789474 |           0.789474 | 0.763158 |    0.925587 |\n",
            "| Ur - All PCs            | Logistic Regression | ClusterCentroids |   0.769231 |    0.75     |                  0.789474 |           0.789474 | 0.763158 |    0.877183 |\n",
            "| U - All PCs             | Logistic Regression | ClusterCentroids |   0.681818 |    0.6      |                  0.789474 |           0.789474 | 0.631579 |    2.17085  |\n",
            "| U - All PCs             | Logistic Regression | ADASYN           |   0.816379 |    0.848969 |                  0.786198 |           0.786198 | 0.823124 |    0.67398  |\n",
            "| U - All PCs             | Logistic Regression | SMOTETomek       |   0.816155 |    0.856852 |                  0.779149 |           0.779149 | 0.824491 |    0.705607 |\n",
            "| U - All PCs             | Logistic Regression | SMOTE            |   0.814647 |    0.858607 |                  0.774969 |           0.774969 | 0.823635 |    0.886986 |\n",
            "| U - All PCs             | SVM                 | SMOTE            |   0.806279 |    0.879738 |                  0.744143 |           0.744143 | 0.821177 |   96.5864   |\n",
            "| PHL - Selected Features | MLPClassifier       | ClusterCentroids |   0.777778 |    0.823529 |                  0.736842 |           0.736842 | 0.789474 |   12.2362   |\n",
            "| U - All PCs             | KNN                 | ClusterCentroids |   0.736842 |    0.736842 |                  0.736842 |           0.736842 | 0.736842 |    1.80363  |\n",
            "| Ur - Top 6 PCs          | KNN                 | ClusterCentroids |   0.736842 |    0.736842 |                  0.736842 |           0.736842 | 0.736842 |    0.81665  |\n",
            "| PHL - Selected Features | Logistic Regression | ClusterCentroids |   0.764706 |    0.866667 |                  0.684211 |           0.684211 | 0.789474 |    1.57742  |\n",
            "| U - Top 6 PCs           | KNN                 | ClusterCentroids |   0.742857 |    0.8125   |                  0.684211 |           0.684211 | 0.763158 |    1.13917  |\n",
            "| Ur - Top 6 PCs          | Logistic Regression | ClusterCentroids |   0.702703 |    0.722222 |                  0.684211 |           0.684211 | 0.710526 |    0.786177 |\n",
            "| PHL - Selected Features | KNN                 | ClusterCentroids |   0.705882 |    0.8      |                  0.631579 |           0.631579 | 0.736842 |    5.96527  |\n"
          ]
        }
      ]
    },
    {
      "cell_type": "code",
      "source": [
        "metrics_df_f1.to_excel('Metrics - F1 Score.xlsx')\n",
        "metrics_df_recall.to_excel('Metrics - Recall.xlsx')"
      ],
      "metadata": {
        "id": "4Cc06fWnrvvl"
      },
      "execution_count": 14,
      "outputs": []
    },
    {
      "cell_type": "markdown",
      "source": [
        "## References\n",
        "\n",
        "1. KNN - https://scikit-learn.org/stable/modules/generated/sklearn.neighbors.KNeighborsClassifier.html\n",
        "2. MLPClassifier - https://scikit-learn.org/stable/modules/generated/sklearn.neural_network.MLPClassifier.html\n",
        "3. SVM - https://scikit-learn.org/stable/modules/generated/sklearn.svm.SVC.html\n",
        "4. Logistic Regression - https://scikit-learn.org/stable/modules/generated/sklearn.linear_model.LogisticRegression.html\n",
        "5. ADASYN - https://imbalanced-learn.org/dev/references/generated/imblearn.over_sampling.ADASYN.html\n",
        "6. SMOTE - https://imbalanced-learn.org/stable/references/generated/imblearn.over_sampling.SMOTE.html\n",
        "7. SMOTETomek - https://imbalanced-learn.org/dev/references/generated/imblearn.combine.SMOTETomek.html\n",
        "8. ClusterCentroids - https://imbalanced-learn.org/stable/references/generated/imblearn.under_sampling.ClusterCentroids.html\n",
        "9. GridSearchCV - https://scikit-learn.org/stable/modules/generated/sklearn.model_selection.GridSearchCV.html\n",
        "10. Train_Test_Split - https://scikit-learn.org/stable/modules/generated/sklearn.model_selection.train_test_split.html\n",
        "11. Matplotlib - https://matplotlib.org/stable/api/index\n",
        "12. SKLearn Metrics - https://scikit-learn.org/stable/modules/classes.html#sklearn-metrics-metrics\n",
        "13. KNN Example - https://www.geeksforgeeks.org/k-nearest-neighbor-algorithm-in-python/\n",
        "14. Pandas DataFrame sorting - https://pandas.pydata.org/docs/reference/api/pandas.DataFrame.sort_values.html\n",
        "15. Tabulate - https://pypi.org/project/tabulate/"
      ],
      "metadata": {
        "id": "Oe-ovYURd-9L"
      }
    }
  ],
  "metadata": {
    "accelerator": "TPU",
    "colab": {
      "provenance": []
    },
    "kernelspec": {
      "display_name": "Python 3",
      "name": "python3"
    },
    "language_info": {
      "name": "python"
    }
  },
  "nbformat": 4,
  "nbformat_minor": 0
}